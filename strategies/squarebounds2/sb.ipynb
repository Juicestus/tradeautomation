{
 "cells": [
  {
   "cell_type": "code",
   "execution_count": 4,
   "id": "55d20416",
   "metadata": {},
   "outputs": [
    {
     "name": "stdout",
     "output_type": "stream",
     "text": [
      "The autoreload extension is already loaded. To reload it, use:\n",
      "  %reload_ext autoreload\n"
     ]
    }
   ],
   "source": [
    "%load_ext autoreload\n",
    "%autoreload 2\n",
    "import sys\n",
    "sys.path.append('../..')"
   ]
  },
  {
   "cell_type": "markdown",
   "id": "b3055751",
   "metadata": {},
   "source": [
    "## Download some sample data"
   ]
  },
  {
   "cell_type": "code",
   "execution_count": 6,
   "id": "a2a0a896",
   "metadata": {},
   "outputs": [
    {
     "name": "stderr",
     "output_type": "stream",
     "text": [
      "/Users/justus/Library/Python/3.9/lib/python/site-packages/urllib3/__init__.py:34: NotOpenSSLWarning: urllib3 v2 only supports OpenSSL 1.1.1+, currently the 'ssl' module is compiled with 'LibreSSL 2.8.3'. See: https://github.com/urllib3/urllib3/issues/3020\n",
      "  warnings.warn(\n"
     ]
    }
   ],
   "source": [
    "import priceanalytics.data as data\n",
    "\n",
    "big_df = data.alpaca_download_single(\n",
    "    'AAPL',     \n",
    "    past_days=30, \n",
    "    interval=5\n",
    ")\n",
    "dfs = data.split_alpaca_on_day(big_df)"
   ]
  },
  {
   "cell_type": "markdown",
   "id": "7c8331fd",
   "metadata": {},
   "source": [
    "## Square Bounds algorithm\n",
    "\n",
    "\n",
    "$$ \\text{Opening and closing price series are defined by}\\  O(t) \\ \\text{and} \\ C(t) \\ \\text{respectively, while}\\ \\alpha\\ \\text{is an arbitrary constant.} $$\n",
    "\n",
    "$$ u(t) = \\max( O(t),\\ C(t),\\ u(t-1) - \\frac{u(t-1) - C(t)}{\\alpha}) $$\n",
    "\n",
    "$$ d(t) = \\min( O(t),\\ C(t),\\ d(t-1) + \\frac{C(t) - d(t-1)}{\\alpha}) $$\n",
    "\n",
    "$$ U(t) = \\max( O^2(t),\\ C(t)^2,\\ U^2(t-1) - \\frac{U(t-1) - C^2(t)}{\\alpha}) $$\n",
    "\n",
    "$$ D(t) = \\min( O^2(t),\\ C(t)^2,\\ D^2(t-1) + \\frac{C^2(t) - D(t-1)}{\\alpha}) $$\n",
    "\n",
    "$$ B(t) = \\sqrt{U(t)-u^2(t)} $$\n",
    "\n",
    "$$ b(t) = -\\sqrt{D(t)-d^2(t)} $$\n",
    "\n",
    "$$ \\text{Enter a long position when }\\ \\ \\frac{dB}{dt}(t) < 0\\ \\text{and enter a short position when }\\ \\ \\frac{db}{dt}(t) > 0 \\text{.} $$\n"
   ]
  },
  {
   "cell_type": "code",
   "execution_count": 8,
   "id": "5a580e67",
   "metadata": {},
   "outputs": [
    {
     "data": {
      "image/png": "[encoded data removed]",
      "text/plain": [
       "<Figure size 1800x2700 with 1 Axes>"
      ]
     },
     "metadata": {},
     "output_type": "display_data"
    },
    {
     "ename": "NameError",
     "evalue": "name 'plt' is not defined",
     "output_type": "error",
     "traceback": [
      "\u001b[0;31m---------------------------------------------------------------------------\u001b[0m",
      "\u001b[0;31mNameError\u001b[0m                                 Traceback (most recent call last)",
      "Cell \u001b[0;32mIn[8], line 106\u001b[0m\n\u001b[1;32m    101\u001b[0m     _open \u001b[38;5;241m=\u001b[39m df[\u001b[38;5;124m'\u001b[39m\u001b[38;5;124mopen\u001b[39m\u001b[38;5;124m'\u001b[39m]\u001b[38;5;241m.\u001b[39mto_numpy()\n\u001b[1;32m    103\u001b[0m     sb(close, _open)\n\u001b[0;32m--> 106\u001b[0m \u001b[43mtest_sb\u001b[49m\u001b[43m(\u001b[49m\u001b[43mdfs\u001b[49m\u001b[43m[\u001b[49m\u001b[38;5;241;43m-\u001b[39;49m\u001b[38;5;241;43m1\u001b[39;49m\u001b[43m]\u001b[49m\u001b[38;5;241;43m.\u001b[39;49m\u001b[43mcopy\u001b[49m\u001b[43m(\u001b[49m\u001b[43m)\u001b[49m\u001b[43m)\u001b[49m\n",
      "Cell \u001b[0;32mIn[8], line 103\u001b[0m, in \u001b[0;36mtest_sb\u001b[0;34m(df)\u001b[0m\n\u001b[1;32m    100\u001b[0m close \u001b[38;5;241m=\u001b[39m df[\u001b[38;5;124m'\u001b[39m\u001b[38;5;124mclose\u001b[39m\u001b[38;5;124m'\u001b[39m]\u001b[38;5;241m.\u001b[39mto_numpy()\n\u001b[1;32m    101\u001b[0m _open \u001b[38;5;241m=\u001b[39m df[\u001b[38;5;124m'\u001b[39m\u001b[38;5;124mopen\u001b[39m\u001b[38;5;124m'\u001b[39m]\u001b[38;5;241m.\u001b[39mto_numpy()\n\u001b[0;32m--> 103\u001b[0m \u001b[43msb\u001b[49m\u001b[43m(\u001b[49m\u001b[43mclose\u001b[49m\u001b[43m,\u001b[49m\u001b[43m \u001b[49m\u001b[43m_open\u001b[49m\u001b[43m)\u001b[49m\n",
      "Cell \u001b[0;32mIn[8], line 64\u001b[0m, in \u001b[0;36msb\u001b[0;34m(close, _open)\u001b[0m\n\u001b[1;32m     61\u001b[0m         shorts\u001b[38;5;241m.\u001b[39mappend(i)\n\u001b[1;32m     63\u001b[0m \u001b[38;5;28;01mwith\u001b[39;00m plot\u001b[38;5;241m.\u001b[39mMultiPlot(\u001b[38;5;241m2\u001b[39m, size\u001b[38;5;241m=\u001b[39m(\u001b[38;5;241m18\u001b[39m, \u001b[38;5;241m9\u001b[39m \u001b[38;5;241m*\u001b[39m \u001b[38;5;241m3\u001b[39m)) \u001b[38;5;28;01mas\u001b[39;00m m:\n\u001b[0;32m---> 64\u001b[0m     \u001b[43mplt\u001b[49m\u001b[38;5;241m.\u001b[39mplot(close)\n\u001b[1;32m     65\u001b[0m     \u001b[38;5;28;01mfor\u001b[39;00m long \u001b[38;5;129;01min\u001b[39;00m longs:\n\u001b[1;32m     66\u001b[0m         plt\u001b[38;5;241m.\u001b[39maxvline(x\u001b[38;5;241m=\u001b[39mlong, color\u001b[38;5;241m=\u001b[39m\u001b[38;5;124m\"\u001b[39m\u001b[38;5;124m#00FF00\u001b[39m\u001b[38;5;124m\"\u001b[39m)\n",
      "\u001b[0;31mNameError\u001b[0m: name 'plt' is not defined"
     ]
    }
   ],
   "source": [
    "import pandas as pd\n",
    "import numpy as np\n",
    "import priceanalytics.plot as plot\n",
    "\n",
    "def roll(a, window):\n",
    "    shape = a.shape[:-1] + (a.shape[-1] - window + 1, window)\n",
    "    strides = a.strides + (a.strides[-1],)\n",
    "    return np.lib.stride_tricks.as_strided(a, shape=shape, strides=strides)\n",
    "\n",
    "def sb(close, _open):\n",
    "\n",
    "    N = len(close)\n",
    "#     alpha = 2 / (_len + 1)\n",
    "#     alpha_sig = 2 / (sig_len + 1)\n",
    "    alpha = 10\n",
    "\n",
    "    up1, up2, dn1, dn2, bull, bear, sig = np.zeros((7, N))\n",
    "\n",
    "    up1[0] = dn1[0] = close[0]\n",
    "    up2[0] = dn2[0] = close[0] ** 2\n",
    "\n",
    "    #print(alpha, alpha_sig, up1[0], dn1[0], up2[0], dn2[0], sig[0])\n",
    "       \n",
    "    for i in range(1, N):\n",
    "        \n",
    "        up1[i] = max(close[i], _open[i], up1[i - 1] - (up1[i - 1] - close[i]) / alpha)\n",
    "        dn1[i] = min(close[i], _open[i], dn1[i - 1] + (close[i] - dn1[i - 1]) / alpha)\n",
    "\n",
    "        up2[i] = max(close[i] ** 2, _open[i] ** 2, up2[i - 1] - (up2[i - 1] - close[i] ** 2) / alpha)\n",
    "        dn2[i] = min(close[i] ** 2, _open[i] ** 2, dn2[i - 1] + (close[i] ** 2 - dn2[i - 1]) / alpha)\n",
    "     \n",
    "        #print(up1[i], np.sqrt(up2[i]), dn1[i], np.sqrt(dn2[i]))\n",
    "        \n",
    "        \n",
    "        bull[i] = np.sqrt(up2[i] - up1[i] ** 2)\n",
    "        bear[i] = np.sqrt(dn2[i] - dn1[i] ** 2)\n",
    "\n",
    "        #sig[i] = sig[i - 1] + alpha_sig * (np.maximum(bull[i], bear[i]) - sig[i - 1])\n",
    "        \n",
    "    bear *= -1\n",
    "        \n",
    "    bull_1st_ddt = np.diff(bull)\n",
    "    bull_2nd_ddt = np.diff(bull_1st_ddt)\n",
    "    bull_3rd_ddt = np.diff(bull_2nd_ddt)\n",
    "\n",
    "    bear_1st_ddt = np.diff(bear)\n",
    "    bear_2nd_ddt = np.diff(bear_1st_ddt)\n",
    "    bear_3rd_ddt = np.diff(bear_2nd_ddt)\n",
    "    \n",
    "    bull_ma = pd.Series(bull).rolling(3).mean().to_numpy()\n",
    "    bear_ma = pd.Series(bear).rolling(3).mean().to_numpy()\n",
    "        \n",
    "    inpos = False\n",
    "    longs, shorts = [], []\n",
    "    for i in range(1, N-1):\n",
    "        if not inpos and bull_1st_ddt[i] < 0 and bear[i] == 0 :#and bear_1st_ddt[i] < 0:\n",
    "            inpos = True\n",
    "            longs.append(i)\n",
    "        elif inpos and bear_1st_ddt[i] > 0 and bull[i] == 0:#and bull_1st_ddt[i] > 0:\n",
    "            inpos = False\n",
    "            shorts.append(i)\n",
    "            \n",
    "    with plot.MultiPlot(2, size=(18, 9 * 3)) as m:\n",
    "        plt.plot(close)\n",
    "        for long in longs:\n",
    "            plt.axvline(x=long, color=\"#00FF00\")\n",
    "        for short in shorts:\n",
    "            plt.axvline(x=short, color=\"#FF0000\")\n",
    "        \n",
    "        #plt.plot(up1)\n",
    "        #plt.plot(np.sqrt(up2))\n",
    "            \n",
    "        #plt.plot(dn1)\n",
    "        #plt.plot(np.sqrt(dn2))\n",
    "     \n",
    "        m.next()\n",
    "        \n",
    "        plt.plot(bull)\n",
    "#         plt.plot(bull_ma)\n",
    "\n",
    "        plt.plot(bear)    \n",
    "    \n",
    "#         plt.plot(bear_ma)\n",
    "\n",
    "        \n",
    "#         m.next()\n",
    "        \n",
    "#         plt.plot(bull_1st_ddt)\n",
    "#         plt.plot(bull_2nd_ddt)\n",
    "#         #bear_1st_ddt, bear_2nd_ddt\n",
    "        \n",
    "      \n",
    "    \n",
    "    #return df\n",
    "\n",
    "\n",
    "def test_sb(df):\n",
    "    \n",
    "    \n",
    "    close = df['close'].to_numpy()\n",
    "    _open = df['open'].to_numpy()\n",
    "    \n",
    "    sb(close, _open)\n",
    "    \n",
    "\n",
    "test_sb(dfs[-1].copy())"
   ]
  },
  {
   "cell_type": "markdown",
   "id": "eaf81c23",
   "metadata": {},
   "source": [
    "## Todo tommorow\n",
    "\n",
    "- play around w/ the formula a little more\n",
    "- maybe mess with alpha a bit (; \n",
    "- implement a proper backtesting notebook\n",
    "- maybe make a testing script for tuning alpha parameters + many datapoints\n",
    "- implement gradient algorithm in go (cry) with testcases (supercry)"
   ]
  },
  {
   "cell_type": "markdown",
   "id": "731494c7",
   "metadata": {},
   "source": [
    "## An interesting problem\n",
    "\n",
    "$$ g(v)\\ \\text{is a function of vector}\\ v\\ \\text{which yields a vector "
   ]
  },
  {
   "cell_type": "code",
   "execution_count": null,
   "id": "618ddc3f",
   "metadata": {},
   "outputs": [],
   "source": []
  }
 ],
 "metadata": {
  "kernelspec": {
   "display_name": "Python 3 (ipykernel)",
   "language": "python",
   "name": "python3"
  },
  "language_info": {
   "codemirror_mode": {
    "name": "ipython",
    "version": 3
   },
   "file_extension": ".py",
   "mimetype": "text/x-python",
   "name": "python",
   "nbconvert_exporter": "python",
   "pygments_lexer": "ipython3",
   "version": "3.9.6"
  }
 },
 "nbformat": 4,
 "nbformat_minor": 5
}
