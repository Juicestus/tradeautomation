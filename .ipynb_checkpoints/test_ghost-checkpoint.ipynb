{
 "cells": [
  {
   "cell_type": "code",
   "execution_count": 1,
   "id": "8c5d5c1a",
   "metadata": {},
   "outputs": [],
   "source": [
    "%load_ext autoreload\n",
    "%autoreload 2"
   ]
  },
  {
   "cell_type": "code",
   "execution_count": 2,
   "id": "e6ced0eb",
   "metadata": {},
   "outputs": [],
   "source": [
    "from priceanalytics.data import download_df_map, cache_df_map, load_cached_df_map\n",
    "from priceanalytics.plot import MultiPlot\n",
    "from priceanalytics import indicators as I\n",
    "from priceanalytics.backtest import Backtester\n",
    "\n",
    "from datetime import datetime, date, time\n",
    "\n",
    "import pandas as pd\n",
    "import matplotlib.pyplot as plt\n",
    "import numpy as np\n"
   ]
  },
  {
   "cell_type": "code",
   "execution_count": 23,
   "id": "66139ca2",
   "metadata": {},
   "outputs": [
    {
     "name": "stdout",
     "output_type": "stream",
     "text": [
      "raw AAPL: 24119 datapoints from 2023-10-20 to 2023-12-09\n",
      "raw MSFT: 22213 datapoints from 2023-10-20 to 2023-12-09\n",
      "raw AMZN: 24786 datapoints from 2023-10-20 to 2023-12-09\n"
     ]
    }
   ],
   "source": [
    "tickers = ['AAPL', 'MSFT', 'AMZN']\n",
    "dm = download_df_map(tickers, interval=1)\n",
    "\n",
    "    "
   ]
  },
  {
   "cell_type": "code",
   "execution_count": 34,
   "id": "8f59f89c",
   "metadata": {},
   "outputs": [],
   "source": [
    "def normalize(ser, init=1):\n",
    "    ser = ser.to_numpy()\n",
    "    N = len(ser)\n",
    "    norm, _ = np.zeros((2, N))\n",
    "    norm[0] = init\n",
    "    for i in range(1, N):\n",
    "        norm[i] = (ser[i] / ser[i-1]) * norm[i - 1]\n",
    "    return norm.tolist()"
   ]
  },
  {
   "cell_type": "code",
   "execution_count": 42,
   "id": "2ebfba67",
   "metadata": {},
   "outputs": [],
   "source": [
    "df['norm'] = normalize(df['close'])\n",
    "\n",
    "ds = [1]\n",
    "for tkr, dfs in dm.items():\n",
    "    for df in dfs:\n",
    "        #init = 1 if len(ds) <= 0 else ds[-1]\n",
    "        ds += (normalize(df['close'], init=ds[-1]))        \n",
    "df = pd.DataFrame(ds, columns=['p'])"
   ]
  },
  {
   "cell_type": "code",
   "execution_count": null,
   "id": "e8d889e8",
   "metadata": {},
   "outputs": [],
   "source": [
    "\n",
    "df = I.add_fft(df, 'p', 'p_fft')\n",
    "\n",
    "with MultiPlot(1, size=(18, 9)) as m:\n",
    "    #plt.plot(np.array(ds['close']), color='#000000')\n",
    "    #m.next()\n",
    "    plt.plot(np.array(ds), color='#000000')\n",
    "\n",
    "# norm = []\n",
    "# for ticker, dfs in new_tdfs.items():"
   ]
  },
  {
   "cell_type": "code",
   "execution_count": null,
   "id": "70e76e3a",
   "metadata": {},
   "outputs": [],
   "source": []
  }
 ],
 "metadata": {
  "kernelspec": {
   "display_name": "Python 3",
   "language": "python",
   "name": "python3"
  },
  "language_info": {
   "codemirror_mode": {
    "name": "ipython",
    "version": 3
   },
   "file_extension": ".py",
   "mimetype": "text/x-python",
   "name": "python",
   "nbconvert_exporter": "python",
   "pygments_lexer": "ipython3",
   "version": "3.8.7"
  }
 },
 "nbformat": 4,
 "nbformat_minor": 5
}
