{
 "cells": [
  {
   "cell_type": "code",
   "execution_count": 1,
   "id": "b06abe1e",
   "metadata": {},
   "outputs": [],
   "source": [
    "%load_ext autoreload\n",
    "%autoreload 2\n",
    "import sys\n",
    "sys.path.append('..')"
   ]
  },
  {
   "cell_type": "code",
   "execution_count": 2,
   "id": "7ce647c0",
   "metadata": {},
   "outputs": [],
   "source": [
    "from priceanalytics.data import download_df_map, cache_df_map, load_cached_df_map\n",
    "from priceanalytics.plot import MultiPlot\n",
    "from priceanalytics import indicators as I\n",
    "from priceanalytics.backtest import Backtester\n",
    "\n",
    "from datetime import datetime, date, time\n",
    "\n",
    "import pandas as pd\n",
    "import matplotlib.pyplot as plt\n",
    "import numpy as np\n"
   ]
  },
  {
   "cell_type": "code",
   "execution_count": 3,
   "id": "83b1f1de",
   "metadata": {},
   "outputs": [
    {
     "name": "stdout",
     "output_type": "stream",
     "text": [
      "raw AAPL: 25078 datapoints from 2023-10-18 to 2023-12-08\n",
      "raw MSFT: 23010 datapoints from 2023-10-18 to 2023-12-08\n"
     ]
    }
   ],
   "source": [
    "tickers = ['AAPL', 'MSFT']\n",
    "raw_tdfs = download_df_map(tickers, interval=1)\n",
    "# cache_df_map(raw_tdfs, _dir=\"cache\")\n"
   ]
  },
  {
   "cell_type": "code",
   "execution_count": 48,
   "id": "0a6fcea3",
   "metadata": {},
   "outputs": [
    {
     "name": "stdout",
     "output_type": "stream",
     "text": [
      "raw AAPL: 24133 datapoints from 2023-10-20 to 2023-12-09\n",
      "raw MSFT: 22223 datapoints from 2023-10-20 to 2023-12-09\n",
      "raw AMZN: 24798 datapoints from 2023-10-20 to 2023-12-09\n",
      "Loaded 108 datasets containing 70731 datapoints\n"
     ]
    }
   ],
   "source": [
    "# old_tdfs = load_cached_df_map(_dir=\"cache\") # was @ interval = 5\n",
    "# old_dataset = old_tdfs['AAPL'] + old_tdfs['MSFT']\n",
    "\n",
    "tickers = ['AAPL', 'MSFT', 'AMZN']\n",
    "new_tdfs = download_df_map(tickers, interval=1)\n",
    "new_dataset = []\n",
    "for ticker, dfs in new_tdfs.items():\n",
    "    new_dataset += dfs\n",
    "    \n",
    "#dataset = old_dataset + new_dataset\n",
    "dataset = new_dataset\n",
    "\n",
    "datapts = sum([len(df) for df in dataset])\n",
    "print(\"Loaded\", len(dataset), \"datasets containing\", datapts, \"datapoints\")"
   ]
  },
  {
   "cell_type": "code",
   "execution_count": 108,
   "id": "3d10bc00",
   "metadata": {},
   "outputs": [],
   "source": [
    "import priceanalytics.backtest as bt\n",
    " \n",
    "def test_and_strat(total, _len, sig_len, stop_loss=-10): #-1000% will never happen (hopefully)\n",
    "    tpr = 1\n",
    "    incrs = []\n",
    "    \n",
    "    buys, sells = [], []\n",
    "    for n, df in enumerate(total):\n",
    "\n",
    "        df = I.add_square_bounds_osc(df, _len=_len, sig_len=sig_len)\n",
    "        df = df.iloc[_len:]\n",
    "\n",
    "        with bt.Backtester(df, verbose=False) as b:\n",
    "            last_buy = 0\n",
    "            for i, fr in b:\n",
    "                \n",
    "                if b.crossover(\"sbosc_bull\", \"sbosc_bear\"):\n",
    "                    if not b.in_position: #should probably do this check automatically\n",
    "                        b.buy()\n",
    "                        last_buy = b.price()\n",
    "                \n",
    "                elif b.crossover(\"sbosc_signal\", \"sbosc_bull\"):\n",
    "                    if b.in_position: #should also probably do this check automatically\n",
    "                        b.sell()\n",
    "                    \n",
    "                if b.in_position: # stop loss calculation\n",
    "                    fallen = (b.price() - last_buy) / last_buy\n",
    "                    if fallen < stop_loss:\n",
    "                        b.sell()\n",
    "                        inpos=False\n",
    "                \n",
    "                if b.in_position:\n",
    "                   if i >= len(df) - 1:\n",
    "                       b.sell()\n",
    "            \n",
    "            buys.append(b.buys)\n",
    "            sells.append(b.sells)\n",
    "            \n",
    "            incr = b.results(1)\n",
    "            incrs.append(incr)\n",
    "            tpr *= (1 + incr)\n",
    "    return tpr - 1, incrs, (buys, sells)\n"
   ]
  },
  {
   "cell_type": "markdown",
   "id": "0427044a",
   "metadata": {},
   "source": [
    "# important notes re. infrastructure\n",
    "\n",
    "1. backtest should do calculations every loop -- there should be a function for this\n",
    "2. need much more data -- def. rewrite data library\n",
    "3. "
   ]
  },
  {
   "cell_type": "code",
   "execution_count": 120,
   "id": "0756dabb",
   "metadata": {},
   "outputs": [
    {
     "name": "stdout",
     "output_type": "stream",
     "text": [
      "raw NVDA: 27885 datapoints from 2023-10-23 to 2023-12-12\n"
     ]
    }
   ],
   "source": [
    "# JPM\n",
    "new_new_tdfs = download_df_map(['NVDA'], interval=1)\n",
    "validation_dataset = []\n",
    "for ticker, dfs in new_new_tdfs.items():\n",
    "    validation_dataset += dfs"
   ]
  },
  {
   "cell_type": "code",
   "execution_count": 125,
   "id": "884c8cc1",
   "metadata": {},
   "outputs": [
    {
     "name": "stdout",
     "output_type": "stream",
     "text": [
      "operated 36 days\n",
      "initial 2023-10-23 08:05:00+00:00 at price $413.54\n",
      "final   2023-12-11 23:58:00+00:00 at price $464.84\n",
      "\n",
      "bought 85 times\n",
      "sold 85 times\n",
      "\n",
      "Model Results\n",
      "\n",
      "maximum:    5.84%\n",
      "median:     0.33%\n",
      "minimum:   -6.23%\n",
      "mean:       0.23%\n",
      "mode:       0.30%\n",
      "\n",
      "operated:   36 days\n",
      "returned:   7.58%\n"
     ]
    }
   ],
   "source": [
    "from priceanalytics.data import combine_dataset, calc_returns_homogenous\n",
    "\n",
    "validation_dataset = [df for df in validation_dataset if len(df) > 0]\n",
    "print('operated', len(validation_dataset), 'days')\n",
    "\n",
    "print('initial', validation_dataset[0].index[0][1], 'at price', '$' + str(validation_dataset[0]['close'].iloc[0]))\n",
    "print('final  ', validation_dataset[-1].index[-1][1], 'at price', '$' + str(validation_dataset[-1]['close'].iloc[-1]))\n",
    "\n",
    "pr, incrs, trades = test_and_strat(validation_dataset, 26, 146, stop_loss=-.05) \n",
    "print('\\nbought', sum([len(t) for t in trades[0]]), 'times')\n",
    "print('sold', sum([len(t) for t in trades[1]]), 'times')\n",
    "\n",
    "# for i, df in enumerate(validation_dataset):\n",
    "#     df = I.add_square_bounds_osc(df, _len=14, sig_len=21)\n",
    "#     df = df.iloc[40:] # [_len:]\n",
    "#     buys, sells = trades[0][i], trades[1][i]\n",
    "#     with MultiPlot(2, size=(18, 9)) as m:\n",
    "#         print(f'returns {bt.perc_ret(incrs[i])}%')\n",
    "#         m.ohlc(df)\n",
    "#         #plt.scatter(buys.keys(), buys.values(), color=\"#00FF00\", marker=\"^\")\n",
    "#         for b in buys.keys():  \n",
    "#             plt.axvline(x=b, color=\"#00FF00\")\n",
    "#         #plt.scatter(sells.keys(), sells.values(), color=\"#FF0000\", marker=\"v\")\n",
    "#         for s in sells.keys():\n",
    "#             plt.axvline(x=s, color=\"#FF0000\")\n",
    "#         m.next()\n",
    "        \n",
    "#         plt.plot(np.array(df['sbosc_bull']), color='r')\n",
    "#         plt.plot(np.array(df['sbosc_bear']), color='g')\n",
    "#         plt.plot(np.array(df['sbosc_signal']), color='#000000')\n",
    "\n",
    "\n",
    "print('')\n",
    "bt.print_test_results(incrs)"
   ]
  },
  {
   "cell_type": "markdown",
   "id": "5fd1c8a1",
   "metadata": {},
   "source": [
    "## notes\n",
    "\n",
    "After a short time testing this out I noticed three things.\n",
    "1. If neither line is above the signal line then it could be a choppy market.\n",
    "2. If one line is almost on top of the signal line or barely above it then it could also be chop and sometimes it lasts a little while. Waiting until it is clearly above the signal line might work better.\n",
    "3. If a position is taken and the bull/bear line goes below the signal line then it could be used as an exit. However it could also mean the market is going to have a bit of chop or slight retracement before continuing if the opposite line doesn't cross above the signal line.\n",
    "\n",
    "So far it looks phenomenal\n",
    "\n",
    "Oh I forgot to add, if in a position and the line stacks on top of the signal line then it can be an exit or everything else I listed in point 3 of my previous comment."
   ]
  },
  {
   "cell_type": "code",
   "execution_count": null,
   "id": "f93b37f1",
   "metadata": {},
   "outputs": [],
   "source": []
  }
 ],
 "metadata": {
  "kernelspec": {
   "display_name": "Python 3 (ipykernel)",
   "language": "python",
   "name": "python3"
  },
  "language_info": {
   "codemirror_mode": {
    "name": "ipython",
    "version": 3
   },
   "file_extension": ".py",
   "mimetype": "text/x-python",
   "name": "python",
   "nbconvert_exporter": "python",
   "pygments_lexer": "ipython3",
   "version": "3.9.6"
  }
 },
 "nbformat": 4,
 "nbformat_minor": 5
}
