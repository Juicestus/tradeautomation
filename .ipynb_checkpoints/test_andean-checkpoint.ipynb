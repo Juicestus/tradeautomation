{
 "cells": [
  {
   "cell_type": "code",
   "execution_count": 3,
   "id": "b06abe1e",
   "metadata": {},
   "outputs": [],
   "source": [
    "%load_ext autoreload\n",
    "%autoreload 2"
   ]
  },
  {
   "cell_type": "code",
   "execution_count": 4,
   "id": "7ce647c0",
   "metadata": {},
   "outputs": [],
   "source": [
    "from priceanalytics.data import download_df_map, cache_df_map, load_cached_df_map \n",
    "from priceanalytics.plot import MultiPlot\n",
    "from priceanalytics import indicators as I\n",
    "from priceanalytics.backtest import Backtester\n",
    "\n",
    "from datetime import datetime, date, time\n",
    "\n",
    "import pandas as pd\n",
    "import matplotlib.pyplot as plt\n",
    "import numpy as np\n"
   ]
  },
  {
   "cell_type": "code",
   "execution_count": null,
   "id": "83b1f1de",
   "metadata": {},
   "outputs": [
    {
     "name": "stdout",
     "output_type": "stream",
     "text": [
      "raw AAPL: 26711 datapoints from 2023-09-25 to 2023-11-14\n",
      "raw MSFT: 22926 datapoints from 2023-09-25 to 2023-11-14\n"
     ]
    }
   ],
   "source": [
    "tickers = ['AAPL', 'MSFT']\n",
    "raw_tdfs = download_df_map(tickers, interval=1)\n",
    "# cache_df_map(raw_tdfs, _dir=\"cache\")\n"
   ]
  },
  {
   "cell_type": "code",
   "execution_count": 125,
   "id": "3d10bc00",
   "metadata": {},
   "outputs": [],
   "source": [
    "from priceanalytics.backtest import perc_ret\n",
    " \n",
    "def test_and_strat(total, _len, sig_len):\n",
    "    tpr = 1\n",
    "    for n, df in enumerate(total):\n",
    "\n",
    "\n",
    "\n",
    "        df = I.add_square_bounds_osc(df, _len=_len, sig_len=sig_len)\n",
    "        df = df.iloc[_len:]\n",
    "\n",
    "        # with MultiPlot(2, size=(40,20)) as m:\n",
    "        #     m.ohlc(df)\n",
    "        #     m.next()\n",
    "        #     plt.plot(np.array(df['sbosc_bull']), color='#00ff00')\n",
    "        #     plt.plot(np.array(df['sbosc_bear']), color='#ff0000')\n",
    "        #     plt.plot(np.array(df['sbosc_signal']), color='#000000')\n",
    "\n",
    "        #print('\\nSAMPLE #', n + 1)\n",
    "\n",
    "        with Backtester(df, verbose=False) as b:\n",
    "            for i, fr in b:\n",
    "                if b.crossover(\"sbosc_bull\", \"sbosc_bear\"):\n",
    "                    b.buy()\n",
    "    #                 print(\"buy @ $\", b.at(i))\n",
    "\n",
    "                elif b.crossover(\"sbosc_signal\", \"sbosc_bull\"):\n",
    "                    b.sell()\n",
    "    #                 print(\"sell @ $\", b.at(i))\n",
    "    #             b.sell()\n",
    "\n",
    "            incr = b.results(1)\n",
    "            tpr *= (1 + incr)\n",
    "            #print(f\"returned {perc_ret(incr)}%\")\n",
    "\n",
    "\n",
    "    #print(f'\\ntotal returned {perc_ret(tpr - 1)}%')\n",
    "    return tpr - 1\n",
    "    #         with MultiPlot(2, size=(40,20)) as m:\n",
    "    #             m.ohlc(df)\n",
    "    #             m.next()\n",
    "    #             plt.plot(np.array(df['sbosc_bull']), color='#00ff00')\n",
    "    #             plt.plot(np.array(df['sbosc_bear']), color='#ff0000')\n",
    "    #             plt.plot(np.array(df['sbosc_signal']), color='#000000')"
   ]
  },
  {
   "cell_type": "code",
   "execution_count": 122,
   "id": "0a6fcea3",
   "metadata": {},
   "outputs": [
    {
     "name": "stdout",
     "output_type": "stream",
     "text": [
      "raw AAPL: 6453 datapoints from 2023-09-25 to 2023-11-11\n",
      "raw MSFT: 5881 datapoints from 2023-09-25 to 2023-11-11\n",
      "raw AMZN: 6404 datapoints from 2023-09-25 to 2023-11-11\n",
      "Loaded 128 datasets containing 23278 datapoints\n"
     ]
    }
   ],
   "source": [
    "old_tdfs = load_cached_df_map(_dir=\"cache\") # was @ interval = 5\n",
    "old_dataset = old_tdfs['AAPL'] + old_tdfs['MSFT']\n",
    "\n",
    "tickers = ['AAPL', 'MSFT', 'AMZN']\n",
    "new_tdfs = download_df_map(tickers, interval=5)\n",
    "new_dataset = []\n",
    "for ticker, dfs in new_tdfs.items():\n",
    "    new_dataset += dfs\n",
    "    \n",
    "dataset = old_dataset + new_dataset\n",
    "\n",
    "datapts = sum([len(df) for df in dataset])\n",
    "print(\"Loaded\", len(dataset), \"datasets containing\", datapts, \"datapoints\")"
   ]
  },
  {
   "cell_type": "code",
   "execution_count": 1,
   "id": "884c8cc1",
   "metadata": {},
   "outputs": [
    {
     "ename": "NameError",
     "evalue": "name 'test_and_strat' is not defined",
     "output_type": "error",
     "traceback": [
      "\u001b[0;31m---------------------------------------------------------------------------\u001b[0m",
      "\u001b[0;31mNameError\u001b[0m                                 Traceback (most recent call last)",
      "\u001b[0;32m<ipython-input-1-3164c45705f2>\u001b[0m in \u001b[0;36m<module>\u001b[0;34m\u001b[0m\n\u001b[0;32m----> 1\u001b[0;31m \u001b[0mtpr\u001b[0m \u001b[0;34m=\u001b[0m \u001b[0mtest_and_strat\u001b[0m\u001b[0;34m(\u001b[0m\u001b[0mdataset\u001b[0m\u001b[0;34m,\u001b[0m \u001b[0;36m14\u001b[0m\u001b[0;34m,\u001b[0m \u001b[0;36m21\u001b[0m\u001b[0;34m)\u001b[0m\u001b[0;34m\u001b[0m\u001b[0;34m\u001b[0m\u001b[0m\n\u001b[0m",
      "\u001b[0;31mNameError\u001b[0m: name 'test_and_strat' is not defined"
     ]
    }
   ],
   "source": [
    "tpr = test_and_strat(dataset, 14, 21)\n"
   ]
  },
  {
   "cell_type": "code",
   "execution_count": 2,
   "id": "f8ce0cf4",
   "metadata": {},
   "outputs": [
    {
     "ename": "NameError",
     "evalue": "name 'test_and_strat' is not defined",
     "output_type": "error",
     "traceback": [
      "\u001b[0;31m---------------------------------------------------------------------------\u001b[0m",
      "\u001b[0;31mNameError\u001b[0m                                 Traceback (most recent call last)",
      "\u001b[0;32m<ipython-input-2-f5bd5a5c7c69>\u001b[0m in \u001b[0;36m<module>\u001b[0;34m\u001b[0m\n\u001b[1;32m     19\u001b[0m         \u001b[0mresults\u001b[0m\u001b[0;34m[\u001b[0m\u001b[0m_len\u001b[0m\u001b[0;34m]\u001b[0m \u001b[0;34m=\u001b[0m \u001b[0;34m{\u001b[0m\u001b[0;34m}\u001b[0m\u001b[0;34m\u001b[0m\u001b[0;34m\u001b[0m\u001b[0m\n\u001b[1;32m     20\u001b[0m         \u001b[0;32mfor\u001b[0m \u001b[0msig_len\u001b[0m \u001b[0;32min\u001b[0m \u001b[0msig_len_range\u001b[0m\u001b[0;34m:\u001b[0m\u001b[0;34m\u001b[0m\u001b[0;34m\u001b[0m\u001b[0m\n\u001b[0;32m---> 21\u001b[0;31m             \u001b[0mtpr\u001b[0m \u001b[0;34m=\u001b[0m \u001b[0mtest_and_strat\u001b[0m\u001b[0;34m(\u001b[0m\u001b[0mdataset\u001b[0m\u001b[0;34m,\u001b[0m \u001b[0m_len\u001b[0m\u001b[0;34m,\u001b[0m \u001b[0msig_len\u001b[0m\u001b[0;34m)\u001b[0m\u001b[0;34m\u001b[0m\u001b[0;34m\u001b[0m\u001b[0m\n\u001b[0m\u001b[1;32m     22\u001b[0m             \u001b[0mprint\u001b[0m\u001b[0;34m(\u001b[0m\u001b[0;34mf\"test={test}/{total} _len={_len} sig_len={sig_len} returns={perc_ret(tpr)}%\"\u001b[0m\u001b[0;34m)\u001b[0m\u001b[0;34m\u001b[0m\u001b[0;34m\u001b[0m\u001b[0m\n\u001b[1;32m     23\u001b[0m             \u001b[0mresults\u001b[0m\u001b[0;34m[\u001b[0m\u001b[0m_len\u001b[0m\u001b[0;34m]\u001b[0m\u001b[0;34m[\u001b[0m\u001b[0msig_len\u001b[0m\u001b[0;34m]\u001b[0m \u001b[0;34m=\u001b[0m \u001b[0mtpr\u001b[0m\u001b[0;34m\u001b[0m\u001b[0;34m\u001b[0m\u001b[0m\n",
      "\u001b[0;31mNameError\u001b[0m: name 'test_and_strat' is not defined"
     ]
    }
   ],
   "source": [
    "# bulk test\n",
    "results = {}\n",
    "\n",
    "def dif_range(s, e):\n",
    "    return range(s, e), s - e\n",
    "\n",
    "test = 1\n",
    "_len_range, ld = dif_range(4, 20)\n",
    "sig_len_range, lr = dif_range(4, 40)\n",
    "total = ld * lr\n",
    "\n",
    "with open('and_results.json', 'w') as f:\n",
    "\n",
    "    def save():\n",
    "        f.write(json.dumps)\n",
    "\n",
    "\n",
    "    for _len in _len_range:\n",
    "        results[_len] = {}\n",
    "        for sig_len in sig_len_range:\n",
    "            tpr = test_and_strat(dataset, _len, sig_len)\n",
    "            print(f\"test={test}/{total} _len={_len} sig_len={sig_len} returns={perc_ret(tpr)}%\")\n",
    "            results[_len][sig_len] = tpr\n",
    "            test += 1\n",
    "            if test % 10 == 0:\n",
    "                save()\n",
    "    "
   ]
  },
  {
   "cell_type": "code",
   "execution_count": null,
   "id": "d4a18262",
   "metadata": {},
   "outputs": [],
   "source": [
    "print(results)"
   ]
  }
 ],
 "metadata": {
  "kernelspec": {
   "display_name": "Python 3",
   "language": "python",
   "name": "python3"
  },
  "language_info": {
   "codemirror_mode": {
    "name": "ipython",
    "version": 3
   },
   "file_extension": ".py",
   "mimetype": "text/x-python",
   "name": "python",
   "nbconvert_exporter": "python",
   "pygments_lexer": "ipython3",
   "version": "3.8.7"
  }
 },
 "nbformat": 4,
 "nbformat_minor": 5
}
