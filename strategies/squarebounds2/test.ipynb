{
 "cells": [
  {
   "cell_type": "code",
   "execution_count": 2,
   "id": "a83f582f",
   "metadata": {},
   "outputs": [],
   "source": [
    "%load_ext autoreload\n",
    "%autoreload 2\n",
    "import sys\n",
    "sys.path.append('..')"
   ]
  },
  {
   "cell_type": "code",
   "execution_count": 10,
   "id": "bc6a578d",
   "metadata": {},
   "outputs": [],
   "source": [
    "import numpy as np\n",
    "\n",
    "def squarebounds(_open=None, close=None, alpha=0):\n",
    "\n",
    "    N = len(close)\n",
    "\n",
    "    up1, up2, dn1, dn2, bull, bear = np.zeros((6, N))\n",
    "\n",
    "    up1[0] = dn1[0] = close[0]\n",
    "    up2[0] = dn2[0] = close[0] ** 2\n",
    "       \n",
    "    for i in range(1, N):\n",
    "        \n",
    "        up1[i] = max(close[i], _open[i], up1[i - 1] - (up1[i - 1] - close[i]) / alpha)\n",
    "        dn1[i] = min(close[i], _open[i], dn1[i - 1] + (close[i] - dn1[i - 1]) / alpha)\n",
    "\n",
    "        up2[i] = max(close[i] ** 2, _open[i] ** 2, up2[i - 1] - (up2[i - 1] - close[i] ** 2) / alpha)\n",
    "        dn2[i] = min(close[i] ** 2, _open[i] ** 2, dn2[i - 1] + (close[i] ** 2 - dn2[i - 1]) / alpha)\n",
    "             \n",
    "        \n",
    "        bull[i] = np.sqrt(up2[i] - up1[i] ** 2)\n",
    "        bear[i] = np.sqrt(dn2[i] - dn1[i] ** 2)\n",
    "        \n",
    "    bear *= -1\n",
    "    \n",
    "    bull_d1 = np.gradient(bull)\n",
    "    bull_d2 = np.gradient(bull_d1)\n",
    "\n",
    "    bear_d1 = np.gradient(bear)\n",
    "    bear_d2 = np.gradient(bear_d1)\n",
    "    \n",
    "    long_condition = bull_d1[-1] < 0\n",
    "    short_condition = bear_d1[-1] > 0\n",
    "    \n",
    "    return long_condition, short_condition"
   ]
  },
  {
   "cell_type": "code",
   "execution_count": 8,
   "id": "63a5c31f",
   "metadata": {},
   "outputs": [],
   "source": [
    "import priceanalytics.data as data\n",
    "\n",
    "big_df = data.alpaca_download_single(\n",
    "    'AAPL',     \n",
    "    past_days=30, \n",
    "    interval=5  \n",
    ")\n",
    "dfs = data.split_alpaca_on_day(big_df)"
   ]
  },
  {
   "cell_type": "code",
   "execution_count": 15,
   "id": "db82cf59",
   "metadata": {},
   "outputs": [
    {
     "name": "stdout",
     "output_type": "stream",
     "text": [
      "-1.0\n"
     ]
    }
   ],
   "source": [
    "import priceanalytics.backtest as bt\n",
    "    \n",
    "def test_strategy(df):\n",
    "    \n",
    "    with bt.Backtester(df) as b:\n",
    "     \n",
    "        for i, fr in b:\n",
    "                      \n",
    "            long, short = squarebounds(\n",
    "                _open=fr['open'].to_numpy(),\n",
    "                close=fr['close'].to_numpy(),\n",
    "                alpha=10\n",
    "            )\n",
    "            \n",
    "            if len(fr) <= 15: continue\n",
    "\n",
    "            if long:\n",
    "                b.buy()\n",
    "            \n",
    "            if short:\n",
    "                b.sell()\n",
    "            \n",
    "        return b.results(1)\n",
    "\n",
    "r = test_strategy(dfs[-7])\n",
    "print(r)"
   ]
  },
  {
   "cell_type": "code",
   "execution_count": null,
   "id": "0a18056c",
   "metadata": {},
   "outputs": [],
   "source": []
  }
 ],
 "metadata": {
  "kernelspec": {
   "display_name": "Python 3",
   "language": "python",
   "name": "python3"
  },
  "language_info": {
   "codemirror_mode": {
    "name": "ipython",
    "version": 3
   },
   "file_extension": ".py",
   "mimetype": "text/x-python",
   "name": "python",
   "nbconvert_exporter": "python",
   "pygments_lexer": "ipython3",
   "version": "3.8.7"
  }
 },
 "nbformat": 4,
 "nbformat_minor": 5
}
