{
 "cells": [
  {
   "cell_type": "code",
   "execution_count": 21,
   "id": "5cad7fcf",
   "metadata": {},
   "outputs": [],
   "source": [
    "%load_ext autoreload\n",
    "%autoreload 2"
   ]
  },
  {
   "cell_type": "code",
   "execution_count": 2,
   "id": "14fa60d8",
   "metadata": {},
   "outputs": [],
   "source": [
    "from priceanalytics.data import download_df_map, cache_df_map, load_cached_df_map \n",
    "from priceanalytics.plot import MultiPlot\n",
    "from priceanalytics import indicators as I\n",
    "\n",
    "from datetime import datetime, date, time\n",
    "\n",
    "import pandas as pd\n",
    "import matplotlib.pyplot as plt\n",
    "import numpy as np\n"
   ]
  },
  {
   "cell_type": "code",
   "execution_count": 4,
   "id": "1f431252",
   "metadata": {},
   "outputs": [
    {
     "name": "stdout",
     "output_type": "stream",
     "text": [
      "raw AAPL: 6711 datapoints from 2023-09-12 to 2023-11-01\n",
      "raw MSFT: 5973 datapoints from 2023-09-12 to 2023-11-01\n"
     ]
    }
   ],
   "source": [
    "tickers = ['AAPL', 'MSFT']\n",
    "raw_tdfs = download_df_map(tickers)\n",
    "cache_df_map(raw_tdfs, _dir=\"cache_raw\")\n"
   ]
  },
  {
   "cell_type": "code",
   "execution_count": 13,
   "id": "52085cb8",
   "metadata": {},
   "outputs": [],
   "source": [
    "raw_tdfs = load_cached_df_map(_dir=\"cache_raw\")\n",
    "ind_tdfs = {}\n",
    "for ticker, dfs in raw_tdfs.items():\n",
    "    ind_tdfs[ticker] = []\n",
    "    for df in dfs:\n",
    "        df = I.add_wave_trend(df, n1=10, n2=21)\n",
    "        df = I.add_dfdt(df, \"wt1\", \"wt1_ddt\")\n",
    "        df = I.add_dfdt(df, \"wt2\", \"wt2_ddt\")\n",
    "        df = I.add_dfdt(df, \"wt1_ddt\", \"wt1_ddt2\")\n",
    "        df = I.add_dfdt(df, \"wt2_ddt\", \"wt2_ddt2\")\n",
    "        ind_tdfs[ticker].append(df)\n",
    "cache_df_map(ind_tdfs, _dir=\"cache_ind\")\n"
   ]
  },
  {
   "cell_type": "code",
   "execution_count": 24,
   "id": "75e76a68",
   "metadata": {},
   "outputs": [
    {
     "ename": "TypeError",
     "evalue": "__init__() got an unexpected keyword argument 'verbose'",
     "output_type": "error",
     "traceback": [
      "\u001b[0;31m---------------------------------------------------------------------------\u001b[0m",
      "\u001b[0;31mTypeError\u001b[0m                                 Traceback (most recent call last)",
      "\u001b[0;32m<ipython-input-24-c81186534838>\u001b[0m in \u001b[0;36m<module>\u001b[0;34m\u001b[0m\n\u001b[1;32m      7\u001b[0m     \u001b[0mresults\u001b[0m\u001b[0;34m[\u001b[0m\u001b[0mticker\u001b[0m\u001b[0;34m]\u001b[0m \u001b[0;34m=\u001b[0m \u001b[0;34m[\u001b[0m\u001b[0;34m]\u001b[0m\u001b[0;34m\u001b[0m\u001b[0;34m\u001b[0m\u001b[0m\n\u001b[1;32m      8\u001b[0m     \u001b[0;32mfor\u001b[0m \u001b[0mdf\u001b[0m \u001b[0;32min\u001b[0m \u001b[0mdfs\u001b[0m\u001b[0;34m:\u001b[0m\u001b[0;34m\u001b[0m\u001b[0;34m\u001b[0m\u001b[0m\n\u001b[0;32m----> 9\u001b[0;31m         \u001b[0;32mwith\u001b[0m \u001b[0mBacktester\u001b[0m\u001b[0;34m(\u001b[0m\u001b[0mdf\u001b[0m\u001b[0;34m,\u001b[0m \u001b[0mverbose\u001b[0m\u001b[0;34m=\u001b[0m\u001b[0;32mFalse\u001b[0m\u001b[0;34m)\u001b[0m \u001b[0;32mas\u001b[0m \u001b[0mb\u001b[0m\u001b[0;34m:\u001b[0m\u001b[0;34m\u001b[0m\u001b[0;34m\u001b[0m\u001b[0m\n\u001b[0m\u001b[1;32m     10\u001b[0m             \u001b[0;32mfor\u001b[0m \u001b[0mi\u001b[0m\u001b[0;34m,\u001b[0m \u001b[0mfr\u001b[0m \u001b[0;32min\u001b[0m \u001b[0mb\u001b[0m\u001b[0;34m:\u001b[0m\u001b[0;34m\u001b[0m\u001b[0;34m\u001b[0m\u001b[0m\n\u001b[1;32m     11\u001b[0m                 \u001b[0;32mif\u001b[0m \u001b[0mb\u001b[0m\u001b[0;34m.\u001b[0m\u001b[0mcrossover\u001b[0m\u001b[0;34m(\u001b[0m\u001b[0;34m\"wt1\"\u001b[0m\u001b[0;34m,\u001b[0m \u001b[0;34m\"wt2\"\u001b[0m\u001b[0;34m)\u001b[0m\u001b[0;34m:\u001b[0m\u001b[0;34m\u001b[0m\u001b[0;34m\u001b[0m\u001b[0m\n",
      "\u001b[0;31mTypeError\u001b[0m: __init__() got an unexpected keyword argument 'verbose'"
     ]
    }
   ],
   "source": [
    "\n",
    "tdfs = load_cached_df_map(_dir=\"cache_ind\")\n",
    "\n",
    "results = {}\n",
    "for ticker, dfs in tdfs.items():\n",
    "    results[ticker] = []\n",
    "    for df in dfs:\n",
    "        with Backtester(df) as b:\n",
    "            for i, fr in b:\n",
    "                if b.crossover(\"wt1\", \"wt2\"):\n",
    "                    b.buy()\n",
    "                elif b.crossover(\"wt2\", \"wt1\"):\n",
    "                    b.sell()\n",
    "            results[ticker].append(b.results(.2))\n",
    "    r = results[ticker]\n",
    "    print(f\"{ticker} max={max(r)} avg={sum(r)/len(r)} min={min(t)})\")\n",
    "        "
   ]
  },
  {
   "cell_type": "code",
   "execution_count": null,
   "id": "4aa74952",
   "metadata": {},
   "outputs": [],
   "source": []
  },
  {
   "cell_type": "code",
   "execution_count": null,
   "id": "017ba89c",
   "metadata": {},
   "outputs": [],
   "source": []
  }
 ],
 "metadata": {
  "kernelspec": {
   "display_name": "Python 3",
   "language": "python",
   "name": "python3"
  },
  "language_info": {
   "codemirror_mode": {
    "name": "ipython",
    "version": 3
   },
   "file_extension": ".py",
   "mimetype": "text/x-python",
   "name": "python",
   "nbconvert_exporter": "python",
   "pygments_lexer": "ipython3",
   "version": "3.8.7"
  }
 },
 "nbformat": 4,
 "nbformat_minor": 5
}
