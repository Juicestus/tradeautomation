{
 "cells": [
  {
   "cell_type": "code",
   "execution_count": 1,
   "id": "b06abe1e",
   "metadata": {},
   "outputs": [],
   "source": [
    "%load_ext autoreload\n",
    "%autoreload 2"
   ]
  },
  {
   "cell_type": "code",
   "execution_count": 2,
   "id": "7ce647c0",
   "metadata": {},
   "outputs": [],
   "source": [
    "from priceanalytics.data import download_df_map, cache_df_map, load_cached_df_map \n",
    "from priceanalytics.plot import MultiPlot\n",
    "from priceanalytics import indicators as I\n",
    "from priceanalytics.backtest import Backtester\n",
    "\n",
    "from datetime import datetime, date, time\n",
    "\n",
    "import pandas as pd\n",
    "import matplotlib.pyplot as plt\n",
    "import numpy as np\n"
   ]
  },
  {
   "cell_type": "code",
   "execution_count": 63,
   "id": "83b1f1de",
   "metadata": {},
   "outputs": [
    {
     "name": "stdout",
     "output_type": "stream",
     "text": [
      "raw AAPL: 25802 datapoints from 2023-09-25 to 2023-11-11\n",
      "raw MSFT: 22012 datapoints from 2023-09-25 to 2023-11-11\n"
     ]
    }
   ],
   "source": [
    "tickers = ['AAPL', 'MSFT']\n",
    "raw_tdfs = download_df_map(tickers, interval=1)\n",
    "# cache_df_map(raw_tdfs, _dir=\"cache\")\n"
   ]
  },
  {
   "cell_type": "code",
   "execution_count": 125,
   "id": "3d10bc00",
   "metadata": {},
   "outputs": [],
   "source": [
    "from priceanalytics.backtest import perc_ret\n",
    " \n",
    "def test_and_strat(total, _len, sig_len):\n",
    "    tpr = 1\n",
    "    for n, df in enumerate(total):\n",
    "\n",
    "\n",
    "\n",
    "        df = I.add_andean_osc(df, _len=_len, sig_len=sig_len)\n",
    "        df = df.iloc[_len:]\n",
    "\n",
    "        # with MultiPlot(2, size=(40,20)) as m:\n",
    "        #     m.ohlc(df)\n",
    "        #     m.next()\n",
    "        #     plt.plot(np.array(df['andean_bull']), color='#00ff00')\n",
    "        #     plt.plot(np.array(df['andean_bear']), color='#ff0000')\n",
    "        #     plt.plot(np.array(df['andean_signal']), color='#000000')\n",
    "\n",
    "        #print('\\nSAMPLE #', n + 1)\n",
    "\n",
    "        with Backtester(df, verbose=False) as b:\n",
    "            for i, fr in b:\n",
    "                if b.crossover(\"andean_bull\", \"andean_bear\"):\n",
    "                    b.buy()\n",
    "    #                 print(\"buy @ $\", b.at(i))\n",
    "\n",
    "                elif b.crossover(\"andean_signal\", \"andean_bull\"):\n",
    "                    b.sell()\n",
    "    #                 print(\"sell @ $\", b.at(i))\n",
    "    #             b.sell()\n",
    "\n",
    "            incr = b.results(1)\n",
    "            tpr *= (1 + incr)\n",
    "            #print(f\"returned {perc_ret(incr)}%\")\n",
    "\n",
    "\n",
    "    #print(f'\\ntotal returned {perc_ret(tpr - 1)}%')\n",
    "    return tpr - 1\n",
    "    #         with MultiPlot(2, size=(40,20)) as m:\n",
    "    #             m.ohlc(df)\n",
    "    #             m.next()\n",
    "    #             plt.plot(np.array(df['andean_bull']), color='#00ff00')\n",
    "    #             plt.plot(np.array(df['andean_bear']), color='#ff0000')\n",
    "    #             plt.plot(np.array(df['andean_signal']), color='#000000')"
   ]
  },
  {
   "cell_type": "code",
   "execution_count": 122,
   "id": "0a6fcea3",
   "metadata": {},
   "outputs": [
    {
     "name": "stdout",
     "output_type": "stream",
     "text": [
      "raw AAPL: 6453 datapoints from 2023-09-25 to 2023-11-11\n",
      "raw MSFT: 5881 datapoints from 2023-09-25 to 2023-11-11\n",
      "raw AMZN: 6404 datapoints from 2023-09-25 to 2023-11-11\n",
      "Loaded 128 datasets containing 23278 datapoints\n"
     ]
    }
   ],
   "source": [
    "old_tdfs = load_cached_df_map(_dir=\"cache\") # was @ interval = 5\n",
    "old_dataset = old_tdfs['AAPL'] + old_tdfs['MSFT']\n",
    "\n",
    "tickers = ['AAPL', 'MSFT', 'AMZN']\n",
    "new_tdfs = download_df_map(tickers, interval=5)\n",
    "new_dataset = []\n",
    "for ticker, dfs in new_tdfs.items():\n",
    "    new_dataset += dfs\n",
    "    \n",
    "dataset = old_dataset + new_dataset\n",
    "\n",
    "datapts = sum([len(df) for df in dataset])\n",
    "print(\"Loaded\", len(dataset), \"datasets containing\", datapts, \"datapoints\")"
   ]
  },
  {
   "cell_type": "code",
   "execution_count": 129,
   "id": "884c8cc1",
   "metadata": {},
   "outputs": [],
   "source": [
    "tpr = test_and_strat(dataset, 10, 25)\n"
   ]
  },
  {
   "cell_type": "code",
   "execution_count": 148,
   "id": "f8ce0cf4",
   "metadata": {},
   "outputs": [
    {
     "name": "stdout",
     "output_type": "stream",
     "text": [
      "test=1/576 _len=4 sig_len=4 returns=10.03%\n",
      "test=2/576 _len=4 sig_len=5 returns=12.0%\n",
      "test=3/576 _len=4 sig_len=6 returns=13.61%\n"
     ]
    },
    {
     "ename": "KeyboardInterrupt",
     "evalue": "",
     "output_type": "error",
     "traceback": [
      "\u001b[0;31m---------------------------------------------------------------------------\u001b[0m",
      "\u001b[0;31mKeyboardInterrupt\u001b[0m                         Traceback (most recent call last)",
      "\u001b[0;32m<ipython-input-148-f5bd5a5c7c69>\u001b[0m in \u001b[0;36m<module>\u001b[0;34m\u001b[0m\n\u001b[1;32m     19\u001b[0m         \u001b[0mresults\u001b[0m\u001b[0;34m[\u001b[0m\u001b[0m_len\u001b[0m\u001b[0;34m]\u001b[0m \u001b[0;34m=\u001b[0m \u001b[0;34m{\u001b[0m\u001b[0;34m}\u001b[0m\u001b[0;34m\u001b[0m\u001b[0;34m\u001b[0m\u001b[0m\n\u001b[1;32m     20\u001b[0m         \u001b[0;32mfor\u001b[0m \u001b[0msig_len\u001b[0m \u001b[0;32min\u001b[0m \u001b[0msig_len_range\u001b[0m\u001b[0;34m:\u001b[0m\u001b[0;34m\u001b[0m\u001b[0;34m\u001b[0m\u001b[0m\n\u001b[0;32m---> 21\u001b[0;31m             \u001b[0mtpr\u001b[0m \u001b[0;34m=\u001b[0m \u001b[0mtest_and_strat\u001b[0m\u001b[0;34m(\u001b[0m\u001b[0mdataset\u001b[0m\u001b[0;34m,\u001b[0m \u001b[0m_len\u001b[0m\u001b[0;34m,\u001b[0m \u001b[0msig_len\u001b[0m\u001b[0;34m)\u001b[0m\u001b[0;34m\u001b[0m\u001b[0;34m\u001b[0m\u001b[0m\n\u001b[0m\u001b[1;32m     22\u001b[0m             \u001b[0mprint\u001b[0m\u001b[0;34m(\u001b[0m\u001b[0;34mf\"test={test}/{total} _len={_len} sig_len={sig_len} returns={perc_ret(tpr)}%\"\u001b[0m\u001b[0;34m)\u001b[0m\u001b[0;34m\u001b[0m\u001b[0;34m\u001b[0m\u001b[0m\n\u001b[1;32m     23\u001b[0m             \u001b[0mresults\u001b[0m\u001b[0;34m[\u001b[0m\u001b[0m_len\u001b[0m\u001b[0;34m]\u001b[0m\u001b[0;34m[\u001b[0m\u001b[0msig_len\u001b[0m\u001b[0;34m]\u001b[0m \u001b[0;34m=\u001b[0m \u001b[0mtpr\u001b[0m\u001b[0;34m\u001b[0m\u001b[0;34m\u001b[0m\u001b[0m\n",
      "\u001b[0;32m<ipython-input-125-50c934c00dc6>\u001b[0m in \u001b[0;36mtest_and_strat\u001b[0;34m(total, _len, sig_len)\u001b[0m\n\u001b[1;32m     20\u001b[0m \u001b[0;34m\u001b[0m\u001b[0m\n\u001b[1;32m     21\u001b[0m         \u001b[0;32mwith\u001b[0m \u001b[0mBacktester\u001b[0m\u001b[0;34m(\u001b[0m\u001b[0mdf\u001b[0m\u001b[0;34m,\u001b[0m \u001b[0mverbose\u001b[0m\u001b[0;34m=\u001b[0m\u001b[0;32mFalse\u001b[0m\u001b[0;34m)\u001b[0m \u001b[0;32mas\u001b[0m \u001b[0mb\u001b[0m\u001b[0;34m:\u001b[0m\u001b[0;34m\u001b[0m\u001b[0;34m\u001b[0m\u001b[0m\n\u001b[0;32m---> 22\u001b[0;31m             \u001b[0;32mfor\u001b[0m \u001b[0mi\u001b[0m\u001b[0;34m,\u001b[0m \u001b[0mfr\u001b[0m \u001b[0;32min\u001b[0m \u001b[0mb\u001b[0m\u001b[0;34m:\u001b[0m\u001b[0;34m\u001b[0m\u001b[0;34m\u001b[0m\u001b[0m\n\u001b[0m\u001b[1;32m     23\u001b[0m                 \u001b[0;32mif\u001b[0m \u001b[0mb\u001b[0m\u001b[0;34m.\u001b[0m\u001b[0mcrossover\u001b[0m\u001b[0;34m(\u001b[0m\u001b[0;34m\"andean_bull\"\u001b[0m\u001b[0;34m,\u001b[0m \u001b[0;34m\"andean_bear\"\u001b[0m\u001b[0;34m)\u001b[0m\u001b[0;34m:\u001b[0m\u001b[0;34m\u001b[0m\u001b[0;34m\u001b[0m\u001b[0m\n\u001b[1;32m     24\u001b[0m                     \u001b[0mb\u001b[0m\u001b[0;34m.\u001b[0m\u001b[0mbuy\u001b[0m\u001b[0;34m(\u001b[0m\u001b[0;34m)\u001b[0m\u001b[0;34m\u001b[0m\u001b[0;34m\u001b[0m\u001b[0m\n",
      "\u001b[0;32m~/trading-algorithms/priceanalytics/backtest.py\u001b[0m in \u001b[0;36m__next__\u001b[0;34m(self)\u001b[0m\n\u001b[1;32m     86\u001b[0m         \u001b[0;32mif\u001b[0m \u001b[0mself\u001b[0m\u001b[0;34m.\u001b[0m\u001b[0mi\u001b[0m \u001b[0;34m>=\u001b[0m \u001b[0mself\u001b[0m\u001b[0;34m.\u001b[0m\u001b[0mm\u001b[0m\u001b[0;34m:\u001b[0m\u001b[0;34m\u001b[0m\u001b[0;34m\u001b[0m\u001b[0m\n\u001b[1;32m     87\u001b[0m             \u001b[0;32mraise\u001b[0m \u001b[0mStopIteration\u001b[0m\u001b[0;34m\u001b[0m\u001b[0;34m\u001b[0m\u001b[0m\n\u001b[0;32m---> 88\u001b[0;31m         \u001b[0mself\u001b[0m\u001b[0;34m.\u001b[0m\u001b[0mfr\u001b[0m \u001b[0;34m=\u001b[0m \u001b[0mself\u001b[0m\u001b[0;34m.\u001b[0m\u001b[0mdf\u001b[0m\u001b[0;34m[\u001b[0m\u001b[0;34m:\u001b[0m\u001b[0mself\u001b[0m\u001b[0;34m.\u001b[0m\u001b[0mi\u001b[0m\u001b[0;34m]\u001b[0m\u001b[0;34m\u001b[0m\u001b[0;34m\u001b[0m\u001b[0m\n\u001b[0m\u001b[1;32m     89\u001b[0m         \u001b[0;32mreturn\u001b[0m \u001b[0mself\u001b[0m\u001b[0;34m.\u001b[0m\u001b[0mi\u001b[0m\u001b[0;34m,\u001b[0m \u001b[0mself\u001b[0m\u001b[0;34m.\u001b[0m\u001b[0mfr\u001b[0m\u001b[0;34m\u001b[0m\u001b[0;34m\u001b[0m\u001b[0m\n\u001b[1;32m     90\u001b[0m \u001b[0;34m\u001b[0m\u001b[0m\n",
      "\u001b[0;32m/Library/Frameworks/Python.framework/Versions/3.8/lib/python3.8/site-packages/pandas/core/frame.py\u001b[0m in \u001b[0;36m__getitem__\u001b[0;34m(self, key)\u001b[0m\n\u001b[1;32m   3788\u001b[0m             \u001b[0;31m# either we have a slice or we have a string that can be converted\u001b[0m\u001b[0;34m\u001b[0m\u001b[0;34m\u001b[0m\u001b[0;34m\u001b[0m\u001b[0m\n\u001b[1;32m   3789\u001b[0m             \u001b[0;31m#  to a slice for partial-string date indexing\u001b[0m\u001b[0;34m\u001b[0m\u001b[0;34m\u001b[0m\u001b[0;34m\u001b[0m\u001b[0m\n\u001b[0;32m-> 3790\u001b[0;31m             \u001b[0;32mreturn\u001b[0m \u001b[0mself\u001b[0m\u001b[0;34m.\u001b[0m\u001b[0m_slice\u001b[0m\u001b[0;34m(\u001b[0m\u001b[0mindexer\u001b[0m\u001b[0;34m,\u001b[0m \u001b[0maxis\u001b[0m\u001b[0;34m=\u001b[0m\u001b[0;36m0\u001b[0m\u001b[0;34m)\u001b[0m\u001b[0;34m\u001b[0m\u001b[0;34m\u001b[0m\u001b[0m\n\u001b[0m\u001b[1;32m   3791\u001b[0m \u001b[0;34m\u001b[0m\u001b[0m\n\u001b[1;32m   3792\u001b[0m         \u001b[0;31m# Do we have a (boolean) DataFrame?\u001b[0m\u001b[0;34m\u001b[0m\u001b[0;34m\u001b[0m\u001b[0;34m\u001b[0m\u001b[0m\n",
      "\u001b[0;32m/Library/Frameworks/Python.framework/Versions/3.8/lib/python3.8/site-packages/pandas/core/generic.py\u001b[0m in \u001b[0;36m_slice\u001b[0;34m(self, slobj, axis)\u001b[0m\n\u001b[1;32m   4103\u001b[0m         \u001b[0;32massert\u001b[0m \u001b[0misinstance\u001b[0m\u001b[0;34m(\u001b[0m\u001b[0mslobj\u001b[0m\u001b[0;34m,\u001b[0m \u001b[0mslice\u001b[0m\u001b[0;34m)\u001b[0m\u001b[0;34m,\u001b[0m \u001b[0mtype\u001b[0m\u001b[0;34m(\u001b[0m\u001b[0mslobj\u001b[0m\u001b[0;34m)\u001b[0m\u001b[0;34m\u001b[0m\u001b[0;34m\u001b[0m\u001b[0m\n\u001b[1;32m   4104\u001b[0m         \u001b[0maxis\u001b[0m \u001b[0;34m=\u001b[0m \u001b[0mself\u001b[0m\u001b[0;34m.\u001b[0m\u001b[0m_get_block_manager_axis\u001b[0m\u001b[0;34m(\u001b[0m\u001b[0maxis\u001b[0m\u001b[0;34m)\u001b[0m\u001b[0;34m\u001b[0m\u001b[0;34m\u001b[0m\u001b[0m\n\u001b[0;32m-> 4105\u001b[0;31m         \u001b[0mresult\u001b[0m \u001b[0;34m=\u001b[0m \u001b[0mself\u001b[0m\u001b[0;34m.\u001b[0m\u001b[0m_constructor\u001b[0m\u001b[0;34m(\u001b[0m\u001b[0mself\u001b[0m\u001b[0;34m.\u001b[0m\u001b[0m_mgr\u001b[0m\u001b[0;34m.\u001b[0m\u001b[0mget_slice\u001b[0m\u001b[0;34m(\u001b[0m\u001b[0mslobj\u001b[0m\u001b[0;34m,\u001b[0m \u001b[0maxis\u001b[0m\u001b[0;34m=\u001b[0m\u001b[0maxis\u001b[0m\u001b[0;34m)\u001b[0m\u001b[0;34m)\u001b[0m\u001b[0;34m\u001b[0m\u001b[0;34m\u001b[0m\u001b[0m\n\u001b[0m\u001b[1;32m   4106\u001b[0m         \u001b[0mresult\u001b[0m \u001b[0;34m=\u001b[0m \u001b[0mresult\u001b[0m\u001b[0;34m.\u001b[0m\u001b[0m__finalize__\u001b[0m\u001b[0;34m(\u001b[0m\u001b[0mself\u001b[0m\u001b[0;34m)\u001b[0m\u001b[0;34m\u001b[0m\u001b[0;34m\u001b[0m\u001b[0m\n\u001b[1;32m   4107\u001b[0m \u001b[0;34m\u001b[0m\u001b[0m\n",
      "\u001b[0;32m/Library/Frameworks/Python.framework/Versions/3.8/lib/python3.8/site-packages/pandas/_libs/internals.pyx\u001b[0m in \u001b[0;36mpandas._libs.internals.BlockManager.get_slice\u001b[0;34m()\u001b[0m\n",
      "\u001b[0;32m/Library/Frameworks/Python.framework/Versions/3.8/lib/python3.8/site-packages/pandas/_libs/internals.pyx\u001b[0m in \u001b[0;36mpandas._libs.internals.BlockManager._get_index_slice\u001b[0;34m()\u001b[0m\n",
      "\u001b[0;32m/Library/Frameworks/Python.framework/Versions/3.8/lib/python3.8/site-packages/pandas/core/indexes/multi.py\u001b[0m in \u001b[0;36m_getitem_slice\u001b[0;34m(self, slobj)\u001b[0m\n\u001b[1;32m   2147\u001b[0m         \u001b[0mnew_codes\u001b[0m \u001b[0;34m=\u001b[0m \u001b[0;34m[\u001b[0m\u001b[0mlevel_codes\u001b[0m\u001b[0;34m[\u001b[0m\u001b[0mslobj\u001b[0m\u001b[0;34m]\u001b[0m \u001b[0;32mfor\u001b[0m \u001b[0mlevel_codes\u001b[0m \u001b[0;32min\u001b[0m \u001b[0mself\u001b[0m\u001b[0;34m.\u001b[0m\u001b[0mcodes\u001b[0m\u001b[0;34m]\u001b[0m\u001b[0;34m\u001b[0m\u001b[0;34m\u001b[0m\u001b[0m\n\u001b[1;32m   2148\u001b[0m \u001b[0;34m\u001b[0m\u001b[0m\n\u001b[0;32m-> 2149\u001b[0;31m         return type(self)(\n\u001b[0m\u001b[1;32m   2150\u001b[0m             \u001b[0mlevels\u001b[0m\u001b[0;34m=\u001b[0m\u001b[0mself\u001b[0m\u001b[0;34m.\u001b[0m\u001b[0mlevels\u001b[0m\u001b[0;34m,\u001b[0m\u001b[0;34m\u001b[0m\u001b[0;34m\u001b[0m\u001b[0m\n\u001b[1;32m   2151\u001b[0m             \u001b[0mcodes\u001b[0m\u001b[0;34m=\u001b[0m\u001b[0mnew_codes\u001b[0m\u001b[0;34m,\u001b[0m\u001b[0;34m\u001b[0m\u001b[0;34m\u001b[0m\u001b[0m\n",
      "\u001b[0;31mKeyboardInterrupt\u001b[0m: "
     ]
    }
   ],
   "source": [
    "# bulk test\n",
    "results = {}\n",
    "\n",
    "def dif_range(s, e):\n",
    "    return range(s, e), s - e\n",
    "\n",
    "test = 1\n",
    "_len_range, ld = dif_range(4, 20)\n",
    "sig_len_range, lr = dif_range(4, 40)\n",
    "total = ld * lr\n",
    "\n",
    "with open('and_results.json', 'w') as f:\n",
    "\n",
    "    def save():\n",
    "        f.write(json.dumps)\n",
    "\n",
    "\n",
    "    for _len in _len_range:\n",
    "        results[_len] = {}\n",
    "        for sig_len in sig_len_range:\n",
    "            tpr = test_and_strat(dataset, _len, sig_len)\n",
    "            print(f\"test={test}/{total} _len={_len} sig_len={sig_len} returns={perc_ret(tpr)}%\")\n",
    "            results[_len][sig_len] = tpr\n",
    "            test += 1\n",
    "            if test % 10 == 0:\n",
    "                save()\n",
    "    "
   ]
  },
  {
   "cell_type": "code",
   "execution_count": null,
   "id": "d4a18262",
   "metadata": {},
   "outputs": [],
   "source": [
    "print(results)"
   ]
  }
 ],
 "metadata": {
  "kernelspec": {
   "display_name": "Python 3",
   "language": "python",
   "name": "python3"
  },
  "language_info": {
   "codemirror_mode": {
    "name": "ipython",
    "version": 3
   },
   "file_extension": ".py",
   "mimetype": "text/x-python",
   "name": "python",
   "nbconvert_exporter": "python",
   "pygments_lexer": "ipython3",
   "version": "3.8.7"
  }
 },
 "nbformat": 4,
 "nbformat_minor": 5
}
