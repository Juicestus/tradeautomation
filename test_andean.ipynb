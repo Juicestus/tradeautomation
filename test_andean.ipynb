{
 "cells": [
  {
   "cell_type": "code",
   "execution_count": 3,
   "id": "b06abe1e",
   "metadata": {},
   "outputs": [],
   "source": [
    "%load_ext autoreload\n",
    "%autoreload 2"
   ]
  },
  {
   "cell_type": "code",
   "execution_count": 73,
   "id": "7ce647c0",
   "metadata": {},
   "outputs": [],
   "source": [
    "from priceanalytics.data import download_df_map, cache_df_map, load_cached_df_map \n",
    "from priceanalytics.plot import MultiPlot\n",
    "from priceanalytics import indicators as I\n",
    "from priceanalytics.backtest import Backtester\n",
    "\n",
    "from datetime import datetime, date, time\n",
    "\n",
    "import pandas as pd\n",
    "import matplotlib.pyplot as plt\n",
    "import numpy as np\n"
   ]
  },
  {
   "cell_type": "code",
   "execution_count": 5,
   "id": "83b1f1de",
   "metadata": {},
   "outputs": [
    {
     "name": "stdout",
     "output_type": "stream",
     "text": [
      "raw AAPL: 26711 datapoints from 2023-09-25 to 2023-11-14\n",
      "raw MSFT: 22926 datapoints from 2023-09-25 to 2023-11-14\n"
     ]
    }
   ],
   "source": [
    "tickers = ['AAPL', 'MSFT']\n",
    "raw_tdfs = download_df_map(tickers, interval=1)\n",
    "# cache_df_map(raw_tdfs, _dir=\"cache\")\n"
   ]
  },
  {
   "cell_type": "code",
   "execution_count": 88,
   "id": "0a6fcea3",
   "metadata": {},
   "outputs": [
    {
     "name": "stdout",
     "output_type": "stream",
     "text": [
      "raw AAPL: 6654 datapoints from 2023-09-25 to 2023-11-15\n",
      "raw MSFT: 6086 datapoints from 2023-09-25 to 2023-11-15\n",
      "raw AMZN: 6608 datapoints from 2023-09-25 to 2023-11-15\n",
      "Loaded 129 datasets containing 23439 datapoints\n"
     ]
    }
   ],
   "source": [
    "old_tdfs = load_cached_df_map(_dir=\"cache\") # was @ interval = 5\n",
    "old_dataset = old_tdfs['AAPL'] + old_tdfs['MSFT']\n",
    "\n",
    "tickers = ['AAPL', 'MSFT', 'AMZN']\n",
    "new_tdfs = download_df_map(tickers, interval=5)\n",
    "new_dataset = []\n",
    "for ticker, dfs in new_tdfs.items():\n",
    "    new_dataset += dfs\n",
    "    \n",
    "dataset = old_dataset + new_dataset\n",
    "\n",
    "datapts = sum([len(df) for df in dataset])\n",
    "print(\"Loaded\", len(dataset), \"datasets containing\", datapts, \"datapoints\")"
   ]
  },
  {
   "cell_type": "code",
   "execution_count": 118,
   "id": "3d10bc00",
   "metadata": {},
   "outputs": [],
   "source": [
    "import priceanalytics.backtest as bt\n",
    " \n",
    "def test_and_strat(total, _len, sig_len, stop_loss=-10): #-1000% will never happen (hopefully)\n",
    "    tpr = 1\n",
    "    incrs = []\n",
    "    \n",
    "    for n, df in enumerate(total):\n",
    "\n",
    "        df = I.add_andean_osc(df, _len=_len, sig_len=sig_len)\n",
    "        df = df.iloc[_len:]\n",
    "\n",
    "        with bt.Backtester(df, verbose=False) as b:\n",
    "            last_buy = 0\n",
    "            for i, fr in b:\n",
    "                \n",
    "                if b.crossover(\"andean_bull\", \"andean_bear\"):\n",
    "                    if not b.in_position: #should probably do this check automatically\n",
    "                        b.buy()\n",
    "                        last_buy = b.price()\n",
    "                \n",
    "                elif b.crossover(\"andean_signal\", \"andean_bull\"):\n",
    "                    if b.in_position: #should also probably do this check automatically\n",
    "                        b.sell()\n",
    "                    \n",
    "                if b.in_position: # stop loss calculation\n",
    "                    fallen = (b.price() - last_buy) / last_buy\n",
    "                    if fallen < stop_loss:\n",
    "                        b.sell()\n",
    "            \n",
    "            incr = b.results(1)\n",
    "            incrs.append(incr)\n",
    "            tpr *= (1 + incr)\n",
    "    return tpr - 1, incrs\n"
   ]
  },
  {
   "cell_type": "code",
   "execution_count": 155,
   "id": "884c8cc1",
   "metadata": {},
   "outputs": [
    {
     "name": "stdout",
     "output_type": "stream",
     "text": [
      "raw GME: 4377 datapoints from 2023-09-25 to 2023-11-15\n"
     ]
    },
    {
     "ename": "IndexError",
     "evalue": "list index out of range",
     "output_type": "error",
     "traceback": [
      "\u001b[0;31m---------------------------------------------------------------------------\u001b[0m",
      "\u001b[0;31mIndexError\u001b[0m                                Traceback (most recent call last)",
      "\u001b[0;32m<ipython-input-155-6181a1c6ac20>\u001b[0m in \u001b[0;36m<module>\u001b[0;34m\u001b[0m\n\u001b[1;32m     11\u001b[0m     \u001b[0;32mreturn\u001b[0m \u001b[0mr\u001b[0m\u001b[0;34m\u001b[0m\u001b[0;34m\u001b[0m\u001b[0m\n\u001b[1;32m     12\u001b[0m \u001b[0;34m\u001b[0m\u001b[0m\n\u001b[0;32m---> 13\u001b[0;31m \u001b[0mds_ret\u001b[0m \u001b[0;34m=\u001b[0m \u001b[0mcalc_returns_homogenous\u001b[0m\u001b[0;34m(\u001b[0m\u001b[0mvalidation_dataset\u001b[0m\u001b[0;34m)\u001b[0m\u001b[0;34m\u001b[0m\u001b[0;34m\u001b[0m\u001b[0m\n\u001b[0m\u001b[1;32m     14\u001b[0m \u001b[0;34m\u001b[0m\u001b[0m\n\u001b[1;32m     15\u001b[0m \u001b[0;31m#tpr, incrs = test_and_strat(dataset, 14, 21)\u001b[0m\u001b[0;34m\u001b[0m\u001b[0;34m\u001b[0m\u001b[0;34m\u001b[0m\u001b[0m\n",
      "\u001b[0;32m<ipython-input-155-6181a1c6ac20>\u001b[0m in \u001b[0;36mcalc_returns_homogenous\u001b[0;34m(dataset)\u001b[0m\n\u001b[1;32m      5\u001b[0m \u001b[0;34m\u001b[0m\u001b[0m\n\u001b[1;32m      6\u001b[0m \u001b[0;32mdef\u001b[0m \u001b[0mcalc_returns_homogenous\u001b[0m\u001b[0;34m(\u001b[0m\u001b[0mdataset\u001b[0m\u001b[0;34m)\u001b[0m\u001b[0;34m:\u001b[0m\u001b[0;34m\u001b[0m\u001b[0;34m\u001b[0m\u001b[0m\n\u001b[0;32m----> 7\u001b[0;31m     \u001b[0ms\u001b[0m \u001b[0;34m=\u001b[0m \u001b[0mdataset\u001b[0m\u001b[0;34m[\u001b[0m\u001b[0;36m0\u001b[0m\u001b[0;34m]\u001b[0m\u001b[0;34m.\u001b[0m\u001b[0miloc\u001b[0m\u001b[0;34m[\u001b[0m\u001b[0;36m0\u001b[0m\u001b[0;34m]\u001b[0m\u001b[0;34m[\u001b[0m\u001b[0;34m'close'\u001b[0m\u001b[0;34m]\u001b[0m\u001b[0;34m\u001b[0m\u001b[0;34m\u001b[0m\u001b[0m\n\u001b[0m\u001b[1;32m      8\u001b[0m     \u001b[0me\u001b[0m \u001b[0;34m=\u001b[0m \u001b[0mdataset\u001b[0m\u001b[0;34m[\u001b[0m\u001b[0;34m-\u001b[0m\u001b[0;36m1\u001b[0m\u001b[0;34m]\u001b[0m\u001b[0;34m.\u001b[0m\u001b[0miloc\u001b[0m\u001b[0;34m[\u001b[0m\u001b[0;34m-\u001b[0m\u001b[0;36m1\u001b[0m\u001b[0;34m]\u001b[0m\u001b[0;34m[\u001b[0m\u001b[0;34m'close'\u001b[0m\u001b[0;34m]\u001b[0m\u001b[0;34m\u001b[0m\u001b[0;34m\u001b[0m\u001b[0m\n\u001b[1;32m      9\u001b[0m     \u001b[0mr\u001b[0m \u001b[0;34m=\u001b[0m \u001b[0;34m(\u001b[0m\u001b[0me\u001b[0m \u001b[0;34m-\u001b[0m \u001b[0ms\u001b[0m\u001b[0;34m)\u001b[0m\u001b[0;34m/\u001b[0m\u001b[0ms\u001b[0m\u001b[0;34m\u001b[0m\u001b[0;34m\u001b[0m\u001b[0m\n",
      "\u001b[0;31mIndexError\u001b[0m: list index out of range"
     ]
    }
   ],
   "source": [
    "validation_tdfs = download_df_map(['GME'], interval=5)\n",
    "validation_dataset = []\n",
    "for ticker, dfs in validation_tdfs.items():\n",
    "    validation_dataset += dfs\n",
    "    \n",
    "def calc_returns_homogenous(dataset):\n",
    "    s = dataset[0].iloc[0]['close']\n",
    "    e = dataset[-1].iloc[-1]['close']\n",
    "    r = (e - s)/s\n",
    "    print(f'homogenous dataset yields: {bt.perc_ret(r):5.2f}% returns')\n",
    "    return r\n",
    "\n",
    "ds_ret = calc_returns_homogenous(validation_dataset)\n",
    "\n",
    "#tpr, incrs = test_and_strat(dataset, 14, 21)    \n",
    "tpr, incrs = test_and_strat(validation_dataset, 14, 21, stop_loss=-.03)    \n",
    "\n",
    "\n",
    "\n",
    "print('')\n",
    "bt.print_test_results(incrs)\n"
   ]
  },
  {
   "cell_type": "markdown",
   "id": "5fd1c8a1",
   "metadata": {},
   "source": [
    "## notes\n",
    "\n",
    "After a short time testing this out I noticed three things.\n",
    "1. If neither line is above the signal line then it could be a choppy market.\n",
    "2. If one line is almost on top of the signal line or barely above it then it could also be chop and sometimes it lasts a little while. Waiting until it is clearly above the signal line might work better.\n",
    "3. If a position is taken and the bull/bear line goes below the signal line then it could be used as an exit. However it could also mean the market is going to have a bit of chop or slight retracement before continuing if the opposite line doesn't cross above the signal line.\n",
    "\n",
    "So far it looks phenomenal\n",
    "\n",
    "Oh I forgot to add, if in a position and the line stacks on top of the signal line then it can be an exit or everything else I listed in point 3 of my previous comment."
   ]
  },
  {
   "cell_type": "code",
   "execution_count": null,
   "id": "2982dde1",
   "metadata": {},
   "outputs": [],
   "source": []
  }
 ],
 "metadata": {
  "kernelspec": {
   "display_name": "Python 3",
   "language": "python",
   "name": "python3"
  },
  "language_info": {
   "codemirror_mode": {
    "name": "ipython",
    "version": 3
   },
   "file_extension": ".py",
   "mimetype": "text/x-python",
   "name": "python",
   "nbconvert_exporter": "python",
   "pygments_lexer": "ipython3",
   "version": "3.8.7"
  }
 },
 "nbformat": 4,
 "nbformat_minor": 5
}
