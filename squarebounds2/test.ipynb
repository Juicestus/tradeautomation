{
 "cells": [
  {
   "cell_type": "code",
   "execution_count": 2,
   "id": "6f6479b3",
   "metadata": {},
   "outputs": [],
   "source": [
    "%load_ext autoreload\n",
    "%autoreload 2\n",
    "import sys\n",
    "sys.path.append('..')"
   ]
  },
  {
   "cell_type": "code",
   "execution_count": 38,
   "id": "67456820",
   "metadata": {},
   "outputs": [],
   "source": [
    "import numpy as np\n",
    "\n",
    "def squarebounds(_open=None, close=None, alpha=0):\n",
    "\n",
    "    N = len(close)\n",
    "\n",
    "    up1, up2, dn1, dn2, bull, bear = np.zeros((6, N))\n",
    "\n",
    "    up1[0] = dn1[0] = close[0]\n",
    "    up2[0] = dn2[0] = close[0] ** 2\n",
    "       \n",
    "    for i in range(1, N):\n",
    "        \n",
    "        up1[i] = max(close[i], _open[i], up1[i - 1] - (up1[i - 1] - close[i]) / alpha)\n",
    "        dn1[i] = min(close[i], _open[i], dn1[i - 1] + (close[i] - dn1[i - 1]) / alpha)\n",
    "\n",
    "        up2[i] = max(close[i] ** 2, _open[i] ** 2, up2[i - 1] - (up2[i - 1] - close[i] ** 2) / alpha)\n",
    "        dn2[i] = min(close[i] ** 2, _open[i] ** 2, dn2[i - 1] + (close[i] ** 2 - dn2[i - 1]) / alpha)\n",
    "             \n",
    "        \n",
    "        bull[i] = np.sqrt(up2[i] - up1[i] ** 2)\n",
    "        bear[i] = np.sqrt(dn2[i] - dn1[i] ** 2)\n",
    "        \n",
    "    bear *= -1\n",
    "    \n",
    "    bull_d1 = np.gradient(bull)\n",
    "    bull_d2 = np.gradient(bull_d1)\n",
    "\n",
    "    bear_d1 = np.gradient(bear)\n",
    "    bear_d2 = np.gradient(bear_d1)\n",
    "    \n",
    "    long_condition = bull_d1[-1] < 0\n",
    "    short_condition = bear_d1[-1] > 0\n",
    "    \n",
    "    return long_condition, short_condition, bull, bear"
   ]
  },
  {
   "cell_type": "code",
   "execution_count": 8,
   "id": "4ebbf990",
   "metadata": {},
   "outputs": [],
   "source": [
    "import priceanalytics.data as data\n",
    "\n",
    "big_df = data.alpaca_download_single(\n",
    "    'AAPL',     \n",
    "    past_days=30, \n",
    "    interval=5  \n",
    ")\n",
    "dfs = data.split_alpaca_on_day(big_df)"
   ]
  },
  {
   "cell_type": "code",
   "execution_count": 40,
   "id": "a6ab78f0",
   "metadata": {},
   "outputs": [
    {
     "name": "stdout",
     "output_type": "stream",
     "text": [
      "bought 21 194.205\n",
      "sold 46 194.1801\n",
      "bought 62 193.645\n",
      "sold 68 193.7339\n",
      "bought 69 193.79\n",
      "sold 73 193.7\n",
      "-0.00013376027220401987\n"
     ]
    }
   ],
   "source": [
    "import priceanalytics.backtest as bt\n",
    "import priceanalytics.plot as plot\n",
    "import matplotlib.pyplot as plt\n",
    "    \n",
    "def test_strategy(df):\n",
    "    \n",
    "    with bt.Backtester(df) as b:\n",
    "     \n",
    "        for i, fr in b:\n",
    "            \n",
    "            if i < 5: continue\n",
    "        \n",
    "                      \n",
    "            long, short, bull, bear = squarebounds(\n",
    "                _open=fr['open'].to_numpy(),\n",
    "                close=fr['close'].to_numpy(),\n",
    "                alpha=10\n",
    "            )\n",
    "            \n",
    "                \n",
    "#             if i % 10 == 0:\n",
    "#                 with plot.MultiPlot(2, size=(18, 9 * 2)) as m: \n",
    "#                     plt.plot(fr['close'].to_numpy())\n",
    "#                     m.next()\n",
    "#                     plt.plot(bull)\n",
    "#                     plt.plot(bear)  \n",
    "\n",
    "            if long:\n",
    "                if b.buy():\n",
    "                    print('bought', i, b.price())\n",
    "\n",
    "            \n",
    "            elif short:\n",
    "                if b.sell():\n",
    "                    print('sold', i, b.price())\n",
    "            \n",
    "        return b.results(1)\n",
    "\n",
    "r = test_strategy(dfs[-1])\n",
    "print(r)"
   ]
  },
  {
   "cell_type": "code",
   "execution_count": null,
   "id": "de0307ac",
   "metadata": {},
   "outputs": [],
   "source": []
  }
 ],
 "metadata": {
  "kernelspec": {
   "display_name": "Python 3",
   "language": "python",
   "name": "python3"
  },
  "language_info": {
   "codemirror_mode": {
    "name": "ipython",
    "version": 3
   },
   "file_extension": ".py",
   "mimetype": "text/x-python",
   "name": "python",
   "nbconvert_exporter": "python",
   "pygments_lexer": "ipython3",
   "version": "3.8.7"
  }
 },
 "nbformat": 4,
 "nbformat_minor": 5
}
