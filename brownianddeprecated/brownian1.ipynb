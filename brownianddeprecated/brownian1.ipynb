{
 "cells": [
  {
   "cell_type": "code",
   "execution_count": 2,
   "id": "8d390d97",
   "metadata": {},
   "outputs": [],
   "source": [
    "%load_ext autoreload\n",
    "%autoreload 2\n",
    "import sys\n",
    "sys.path.append('..')"
   ]
  },
  {
   "cell_type": "code",
   "execution_count": 2,
   "id": "d13df7a3",
   "metadata": {},
   "outputs": [],
   "source": [
    "import priceanalytics.data as data\n",
    "from priceanalytics.plot import MultiPlot\n",
    "from priceanalytics import indicators as I\n",
    "from priceanalytics.backtest import Backtester\n",
    "\n",
    "from datetime import datetime, date, time\n",
    "\n",
    "import pandas as pd\n",
    "import matplotlib.pyplot as plt\n",
    "import numpy as np\n"
   ]
  },
  {
   "cell_type": "code",
   "execution_count": 23,
   "id": "fd2f8bd4",
   "metadata": {},
   "outputs": [
    {
     "name": "stdout",
     "output_type": "stream",
     "text": [
      "raw AAPL: 24119 datapoints from 2023-10-20 to 2023-12-09\n",
      "raw MSFT: 22213 datapoints from 2023-10-20 to 2023-12-09\n",
      "raw AMZN: 24786 datapoints from 2023-10-20 to 2023-12-09\n"
     ]
    }
   ],
   "source": [
    "ds = {}\n",
    "for df "
   ]
  },
  {
   "cell_type": "code",
   "execution_count": 94,
   "id": "068e6bd7",
   "metadata": {},
   "outputs": [],
   "source": [
    "def normalize(ser, init=1):\n",
    "    ser = ser.to_numpy()\n",
    "    N = len(ser)\n",
    "    norm, _ = np.zeros((2, N))\n",
    "    norm[0] = init\n",
    "    for i in range(1, N):\n",
    "        norm[i] = (ser[i] / ser[i-1]) * norm[i - 1]\n",
    "    return norm.tolist()"
   ]
  },
  {
   "cell_type": "code",
   "execution_count": 95,
   "id": "cc899238",
   "metadata": {},
   "outputs": [],
   "source": [
    "ds=[1]\n",
    "for tkr, dfs in dm.items():\n",
    "    for df in dfs:\n",
    "        #init = 1 if len(ds) <= 0 else ds[-1]\n",
    "        ds += (normalize(df['close'], init=ds[-1]))        \n",
    "df = pd.DataFrame(ds, columns=['p'])"
   ]
  },
  {
   "cell_type": "markdown",
   "id": "8300da75",
   "metadata": {},
   "source": [
    "Brownian model as defined for [stocks](https://en.wikipedia.org/wiki/Brownian_model_of_financial_markets#Stocks).\n",
    "![img](https://wikimedia.org/api/rest_v1/media/math/render/svg/b471eaa8243f70f4681928500cd7653d54a99ea8)"
   ]
  },
  {
   "cell_type": "code",
   "execution_count": 1,
   "id": "1a825455",
   "metadata": {},
   "outputs": [
    {
     "ename": "NameError",
     "evalue": "name 'df' is not defined",
     "output_type": "error",
     "traceback": [
      "\u001b[0;31m---------------------------------------------------------------------------\u001b[0m",
      "\u001b[0;31mNameError\u001b[0m                                 Traceback (most recent call last)",
      "\u001b[0;32m<ipython-input-1-d2f81cd73e57>\u001b[0m in \u001b[0;36m<module>\u001b[0;34m\u001b[0m\n\u001b[1;32m      5\u001b[0m     \u001b[0;32mreturn\u001b[0m \u001b[0mx\u001b[0m\u001b[0;34m,\u001b[0m \u001b[0my\u001b[0m\u001b[0;34m\u001b[0m\u001b[0;34m\u001b[0m\u001b[0m\n\u001b[1;32m      6\u001b[0m \u001b[0;34m\u001b[0m\u001b[0m\n\u001b[0;32m----> 7\u001b[0;31m \u001b[0m_df\u001b[0m \u001b[0;34m=\u001b[0m \u001b[0mdf\u001b[0m\u001b[0;34m.\u001b[0m\u001b[0miloc\u001b[0m\u001b[0;34m[\u001b[0m\u001b[0;36m1000\u001b[0m\u001b[0;34m:\u001b[0m\u001b[0;34m]\u001b[0m\u001b[0;34m\u001b[0m\u001b[0;34m\u001b[0m\u001b[0m\n\u001b[0m\u001b[1;32m      8\u001b[0m \u001b[0;34m\u001b[0m\u001b[0m\n\u001b[1;32m      9\u001b[0m \u001b[0;31m#prices = np.flip(_df['p'].values)\u001b[0m\u001b[0;34m\u001b[0m\u001b[0;34m\u001b[0m\u001b[0;34m\u001b[0m\u001b[0m\n",
      "\u001b[0;31mNameError\u001b[0m: name 'df' is not defined"
     ]
    }
   ],
   "source": [
    "\n",
    "\n",
    "def simulate_1d_gbm(nsteps=1000, t=1, mu=0.0001, sigma=0.02, start=1):\n",
    "    steps = [ (mu - (sigma**2)/2) + np.random.randn()*sigma for i in range(nsteps) ]\n",
    "    y = start*np.exp(np.cumsum(steps)) #S(0)exp()\n",
    "    x = [ t*i for i in range(nsteps) ]\n",
    "    return x, y\n",
    "\n",
    "_df = df.iloc[1000:]\n",
    "\n",
    "#prices = np.flip(_df['p'].values)\n",
    "prices = _df['p'].values\n",
    "logprices = np.log(prices)\n",
    "logreturns = logprices[1:] - logprices[:-1]\n",
    "mu = np.mean(logreturns)\n",
    "sigma = np.std(logreturns)\n",
    "nsteps = logprices.shape[0]\n",
    "\n",
    "x, y = simulate_1d_gbm(nsteps=nsteps, mu=mu, sigma=sigma, start=prices[0])\n",
    "\n",
    "with MultiPlot(1, size=(18, 9)) as m:\n",
    "    plt.plot(np.array(_df['p']), color='#000000')\n",
    "    plt.plot(np.array(y), color='r')\n"
   ]
  },
  {
   "cell_type": "code",
   "execution_count": null,
   "id": "d6223e38",
   "metadata": {},
   "outputs": [],
   "source": []
  },
  {
   "cell_type": "code",
   "execution_count": null,
   "id": "9282a19b",
   "metadata": {},
   "outputs": [],
   "source": []
  }
 ],
 "metadata": {
  "kernelspec": {
   "display_name": "Python 3",
   "language": "python",
   "name": "python3"
  },
  "language_info": {
   "codemirror_mode": {
    "name": "ipython",
    "version": 3
   },
   "file_extension": ".py",
   "mimetype": "text/x-python",
   "name": "python",
   "nbconvert_exporter": "python",
   "pygments_lexer": "ipython3",
   "version": "3.8.7"
  }
 },
 "nbformat": 4,
 "nbformat_minor": 5
}
